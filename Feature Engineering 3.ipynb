{
 "cells": [
  {
   "cell_type": "markdown",
   "id": "73f68172-dbdc-41e0-9d66-75d780a6035a",
   "metadata": {},
   "source": [
    "# ASSIGNMENT: FEATURE ENGINEERING 03 (DATA ENCODING)"
   ]
  },
  {
   "cell_type": "markdown",
   "id": "ebd093cb-a15c-4be8-b59f-9760967591d7",
   "metadata": {},
   "source": [
    "__________________________________________________________________________________________"
   ]
  },
  {
   "cell_type": "markdown",
   "id": "4dfbf2d4-670d-442c-ac69-6323fa3f7609",
   "metadata": {},
   "source": [
    "Q. What is data encoding? How is it useful in data science?"
   ]
  },
  {
   "cell_type": "markdown",
   "id": "ed1a3ef3-dbec-4744-9768-afc72a14b0cd",
   "metadata": {},
   "source": [
    "Data encoding is basically a method to convert categorical feature into suitable numerical feature. \n",
    "In the meachine learning model can only deal with the nummerical values. They are unable to understood the categorical values for tarined theirself. So when we goes to train the model, firstly we have to convert all the values in numeric form. There are mainly four ways for encoding the data, each have different usecase...these names are given below:\n",
    "\n",
    "- Nominal or one hot encoding\n",
    "- Ordinal encoding\n",
    "- lebel encoding\n",
    "- Target guided ordinal encoding\n"
   ]
  },
  {
   "cell_type": "markdown",
   "id": "04099875-ec5e-4fe7-90d9-2e286049edd3",
   "metadata": {},
   "source": [
    "Q. What is nominal encoding? Provide an example of how you would use it in a real-world scenario."
   ]
  },
  {
   "cell_type": "markdown",
   "id": "9b04d421-b468-49d8-bbdf-53a1e5df70b7",
   "metadata": {},
   "source": [
    "Nominal Encoding is a technique used to transform categorical variables that have no intrinsic orderinh into numerical values that can be used in meachine learning models. One common method for nominal encoding is one hot encoding, which creats a binary vector for each category in varibale.\n",
    "\n",
    "- There are some disadvantages of nominal encoding\n",
    "1- it will become cause of overfitting the model.\n",
    "2- it will increase the number of features, so the model will become very slow.\n",
    "\n",
    "- real world scenario example given below:\n"
   ]
  },
  {
   "cell_type": "code",
   "execution_count": 32,
   "id": "078c80d8-cd4e-486d-9b9e-a449b2cf1cc0",
   "metadata": {},
   "outputs": [
    {
     "data": {
      "text/plain": [
       "array([[0., 1., 0.],\n",
       "       [1., 0., 0.],\n",
       "       [0., 0., 1.],\n",
       "       [1., 0., 0.],\n",
       "       [0., 0., 1.],\n",
       "       [0., 1., 0.]])"
      ]
     },
     "execution_count": 32,
     "metadata": {},
     "output_type": "execute_result"
    }
   ],
   "source": [
    "import pandas as pd\n",
    "df=pd.DataFrame({'Name': [ 'Mohit' , 'Komal', 'Suhel', 'Komal' , 'Suhel', 'Mohit']} )\n",
    "\n",
    "from sklearn.preprocessing import OneHotEncoder\n",
    "encoder= OneHotEncoder()\n",
    "encoded= encoder.fit_transform(df[['Name']]).toarray()\n",
    "encoded\n"
   ]
  },
  {
   "cell_type": "markdown",
   "id": "5108ad10-5858-4bff-80e1-9c1cc5dadfc0",
   "metadata": {},
   "source": [
    "Q. In what situations is nominal encoding preferred over one-hot encoding? "
   ]
  },
  {
   "cell_type": "markdown",
   "id": "1c406908-3c50-4e8b-a7fd-c4988f766548",
   "metadata": {},
   "source": [
    "One hot encoding is a very lenthy processes of encoding it takes so much time at processing as it creates a new individual feature for every datapoint or value. It is a major disadvantage of the one hot encoding. It makes the model overfitting. To protects such problems we use the nominal encoding. For a situation When data is more in number but the categories are less. It is always preffered to use the nominal encoding over the one hot encoding."
   ]
  },
  {
   "cell_type": "markdown",
   "id": "9c761110-e1c2-4c1f-b0f8-621fd5b2f2aa",
   "metadata": {},
   "source": [
    "Q. Suppose you have a dataset containing categorical data with 5 unique values. Which encoding\n",
    "technique would you use to transform this data into a format suitable for machine learning algorithms?\n",
    "Explain why you made this choice."
   ]
  },
  {
   "cell_type": "markdown",
   "id": "61e51f0a-7a3e-4238-9fdb-332d03bc4fb1",
   "metadata": {},
   "source": [
    "If the data is very random, and hasn't any ranking or order then we go for nominal encoding. But in such a case like this,where order is important then we use the ordinal encoding. If there are a targeted values assigned with the variable then we use target guided ordinal encoding."
   ]
  },
  {
   "cell_type": "code",
   "execution_count": null,
   "id": "ccb0308b-be24-4453-bf1b-dd574d992f36",
   "metadata": {},
   "outputs": [],
   "source": []
  }
 ],
 "metadata": {
  "kernelspec": {
   "display_name": "Python 3 (ipykernel)",
   "language": "python",
   "name": "python3"
  },
  "language_info": {
   "codemirror_mode": {
    "name": "ipython",
    "version": 3
   },
   "file_extension": ".py",
   "mimetype": "text/x-python",
   "name": "python",
   "nbconvert_exporter": "python",
   "pygments_lexer": "ipython3",
   "version": "3.10.8"
  }
 },
 "nbformat": 4,
 "nbformat_minor": 5
}
